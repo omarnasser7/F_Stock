{
 "cells": [
  {
   "cell_type": "code",
   "execution_count": null,
   "metadata": {},
   "outputs": [],
   "source": []
  },
  {
   "cell_type": "code",
   "execution_count": 1,
   "metadata": {},
   "outputs": [
    {
     "name": "stdout",
     "output_type": "stream",
     "text": [
      "streamlit==1.39.0\n",
      "yfinance==0.2.50\n",
      "pandas==2.2.2\n",
      "numpy==1.26.4\n",
      "matplotlib==3.9.0\n",
      "arabic-reshaper==3.0.0\n",
      "python-bidi==0.6.0\n",
      "joblib==1.4.2\n",
      "keras==3.7.0\n",
      "tensorflow==2.18.0\n"
     ]
    }
   ],
   "source": [
    "import pkg_resources\n",
    "\n",
    "# List of packages used in the app\n",
    "packages = [\n",
    "    \"streamlit\",\n",
    "    \"yfinance\",\n",
    "    \"pandas\",\n",
    "    \"numpy\",\n",
    "    \"matplotlib\",\n",
    "    \"arabic-reshaper\",\n",
    "    \"python-bidi\",\n",
    "    \"joblib\",\n",
    "    \"keras\",\n",
    "    \"tensorflow\"\n",
    "]\n",
    "\n",
    "# Get installed version for each package\n",
    "with open(\"requirements.txt\", \"w\") as file:\n",
    "    for package in packages:\n",
    "        try:\n",
    "            version = pkg_resources.get_distribution(package).version\n",
    "            file.write(f\"{package}=={version}\\n\")\n",
    "            print(f\"{package}=={version}\")\n",
    "        except pkg_resources.DistributionNotFound:\n",
    "            print(f\"Package {package} is not installed.\")\n"
   ]
  }
 ],
 "metadata": {
  "kernelspec": {
   "display_name": "Python 3",
   "language": "python",
   "name": "python3"
  },
  "language_info": {
   "codemirror_mode": {
    "name": "ipython",
    "version": 3
   },
   "file_extension": ".py",
   "mimetype": "text/x-python",
   "name": "python",
   "nbconvert_exporter": "python",
   "pygments_lexer": "ipython3",
   "version": "3.9.13"
  }
 },
 "nbformat": 4,
 "nbformat_minor": 2
}
